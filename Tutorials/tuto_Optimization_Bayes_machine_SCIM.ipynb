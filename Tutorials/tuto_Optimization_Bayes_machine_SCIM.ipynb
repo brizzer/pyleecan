{
 "cells": [
  {
   "cell_type": "markdown",
   "metadata": {},
   "source": [
    "# Version information"
   ]
  },
  {
   "cell_type": "code",
   "execution_count": 1,
   "metadata": {},
   "outputs": [
    {
     "name": "stdout",
     "output_type": "stream",
     "text": [
      "Running date: June 30, 2022\n",
      "Pyleecan version:1.4.0\n",
      "SciDataTool version:2.4.9\n"
     ]
    }
   ],
   "source": [
    "%matplotlib notebook\n",
    "from PySide2.QtWidgets import *\n",
    "from datetime import date\n",
    "print(\"Running date:\", date.today().strftime(\"%B %d, %Y\"))\n",
    "import pyleecan\n",
    "print(\"Pyleecan version:\" + pyleecan.__version__)\n",
    "import SciDataTool\n",
    "print(\"SciDataTool version:\" + SciDataTool.__version__)"
   ]
  },
  {
   "cell_type": "markdown",
   "metadata": {},
   "source": [
    "# Bayesian optimization in Pyleecan\n",
    "\n",
    "This tutorial explains how to use Pyleecan to solve **constrained global optimization** problem using bayesian optimization.\n",
    "\n",
    "The notebook related to this tutorial is available on [GitHub](https://github.com/Eomys/pyleecan/tree/master/Tutorials/).  \n",
    "\n",
    "For optimization, pyleecan separates problem definition and solver definition. [Another tutorial](https://pyleecan.org/tuto_Optimization.html) already details how to setup the problem to optimize a machine with NSGA-II. \n",
    "\n",
    "Pyleecan offers a great flexibility in the evaluation/constraints/design variable definition. To demonstration this flexibility, the problem of this tutorial uses a custom evaluation method is defined to completly skip the calls to pyleecan simulation/models to simulate the Zitzler–Deb–Thiele's function N.3. The project from this tutorial and from the NSGA-II one can be interverted in both notebook.\n",
    "\n",
    "## Problem definition\n",
    "\n",
    "The object [**OptiProblem**](https://www.pyleecan.org/pyleecan.Classes.OptiObjFunc.html) contains all the optimization problem characteristics:  \n",
    "\n",
    "- the evaluation method and the simulation/machine object\n",
    "- the design variable to vary some parameters of the simulation (e.g. input current, topology of the machine)  \n",
    "- the objective functions to minimize for the simulation  \n",
    "- some constraints (optional)  \n",
    "\n",
    "### Reference simulation definition\n",
    "\n",
    "To define the problem, we first define a reference simulation and an evaluation function. Each optimization evaluation will copy the reference simulation, set the value of the design variables and call the evaluation function on the simulation.\n",
    "In this particular example, the evaluation method won't call the run method of the simulation. We pick arbitraly two parameters from the simulation to store the input and 2 parameters from the output to store the results. So the simulation itself doesn't maters."
   ]
  },
  {
   "cell_type": "code",
   "execution_count": 2,
   "metadata": {},
   "outputs": [],
   "source": [
    "%matplotlib inline\n",
    "import numpy as np\n",
    "from pyleecan.Classes.Simu1 import Simu1\n",
    "from pyleecan.Classes.InputCurrent import InputCurrent\n",
    "\n",
    "# Create the Simulation without machine\n",
    "simu_ref = Simu1(name=\"Tuto_Opti_Bayes\", machine=None)   \n",
    "\n",
    "# Defining Simulation Input\n",
    "Ir= np.zeros(30)  # Ir will be the design variables\n",
    "simu_ref.input = InputCurrent(Ir=Ir)\n",
    "\n",
    "# No models\n",
    "simu_ref.elec = None\n",
    "simu_ref.mag = None\n",
    "simu_ref.force = None\n",
    "simu_ref.struct = None \n",
    "\n",
    "# Evaluation function for Zitzler–Deb–Thiele's function N.3\n",
    "# Using Ir as input, Tem_av and Tem_rip_norm as output\n",
    "def evaluate_fct(output):\n",
    "    x = output.simu.input.Ir.value\n",
    "    f1 = lambda x: x[0]\n",
    "    g = lambda x: 1 + (9 / 29) * np.sum(x[1:])\n",
    "    h = lambda f1, g: 1 - np.sqrt(f1 / g) - (f1 / g) * np.sin(10 * np.pi * f1)\n",
    "    output.mag.Tem_av = f1(x)\n",
    "    output.mag.Tem_rip_norm = g(x) * h(f1(x), g(x))"
   ]
  },
  {
   "cell_type": "markdown",
   "metadata": {},
   "source": [
    "### Minimization problem definition\n",
    "\n",
    "To setup the optimization problem, we define some objective functions using the [**OptiObjective**](https://www.pyleecan.org/pyleecan.Classes.OptiObjective.html) object (which behave the same way as [**DataKeeper**](https://www.pyleecan.org/pyleecan.Classes.DataKeeper.html)). \n",
    "\n",
    "Each objective function is stored in the *keeper* attribute of a **OptiObjective**. keeper is a function and can be set either with a string (mandatory to be able to save the object) or directly with a function (the function will be discarded when saving). This type of function takes an output object in argument and returns a float to **minimize**. \n",
    "\n",
    "We gather the objective functions into a list:"
   ]
  },
  {
   "cell_type": "code",
   "execution_count": 4,
   "metadata": {},
   "outputs": [],
   "source": [
    "from pyleecan.Classes.OptiObjective import OptiObjective\n",
    "import numpy as np\n",
    "\n",
    "# Evalution fct results are stored in Tem_av and Tem_rip_norm\n",
    "objs = [\n",
    "    OptiObjective(\n",
    "        symbol=\"obj1\",\n",
    "        name=\"Objective 1\",\n",
    "        keeper=\"lambda output: output.mag.Tem_av\",\n",
    "    ),\n",
    "    OptiObjective(\n",
    "        symbol=\"obj2\",\n",
    "        name=\"Objective 2\",\n",
    "        keeper=\"lambda output: output.mag.Tem_rip_norm\",\n",
    "    ),\n",
    "]"
   ]
  },
  {
   "cell_type": "markdown",
   "metadata": {},
   "source": [
    "### Design variables\n",
    "We use the object [**OptiDesignVar**](https://www.pyleecan.org/pyleecan.Classes.OptiDesignVar.html) to define the design variables. \n",
    "\n",
    "\n",
    "To define a design variable, we have to specify different attributes:  \n",
    "\n",
    "- *name* to define the design variable name\n",
    "- *symbol* to access to the variable / for plot (must be unique)\n",
    "- *unit* to define the variable unit\n",
    "- *type_var* to specify the variable \"type\":  \n",
    "    - *interval* for continuous variables  \n",
    "    - *set* for discrete variables  \n",
    "- *space* to set the variable bound\n",
    "- *setter* to access to the variable in the simu object. This attribute **must begin by \"simu\"**.  \n",
    "- *get_value* to define the variable for the first generation, the function takes the space in argument and returns the variable value  \n",
    "\n",
    "We store the design variables in a list. For this example, we define 30 design variables that changes each element of the Ir array between 0 and 1:   "
   ]
  },
  {
   "cell_type": "code",
   "execution_count": 5,
   "metadata": {},
   "outputs": [],
   "source": [
    "from pyleecan.Classes.OptiDesignVar import OptiDesignVar\n",
    "import random\n",
    "\n",
    "my_vars = []\n",
    "\n",
    "def gen_setter(i):\n",
    "    def new_setter(simu, value):\n",
    "        simu.input.Ir.value[i] = value\n",
    "\n",
    "    return new_setter\n",
    "\n",
    "for i in range(30):\n",
    "    my_vars.append(\n",
    "        OptiDesignVar(\n",
    "            name=\"Ir({})\".format(i),\n",
    "            symbol=\"var_\" + str(i),\n",
    "            type_var=\"interval\",\n",
    "            space=[0, 1],\n",
    "            get_value=lambda space: np.random.uniform(*space),\n",
    "            setter=gen_setter(i),\n",
    "        )\n",
    "    )"
   ]
  },
  {
   "cell_type": "markdown",
   "metadata": {},
   "source": [
    "\n",
    "\n",
    "### Constraints\n",
    "\n",
    "The class [**OptiConstraint**](https://www.pyleecan.org/pyleecan.Classes.OptiConstraint.html) enables to define some constraint. For each constraint, we have to define the following attributes:  \n",
    "\n",
    "- name  \n",
    "- type_const: type of constraint  \n",
    "    - \"==\"  \n",
    "    - \"<=\"  \n",
    "    - \"<\"  \n",
    "    - \">=\"  \n",
    "    - \">\"  \n",
    "- value: value to compare  \n",
    "- get_variable: function which takes output in argument and returns the constraint value  \n",
    "\n",
    "We also store the constraints into a dict."
   ]
  },
  {
   "cell_type": "code",
   "execution_count": 6,
   "metadata": {},
   "outputs": [],
   "source": [
    "from pyleecan.Classes.OptiConstraint import OptiConstraint\n",
    "\n",
    "# Constraint on objective 2\n",
    "my_constraint = [\n",
    "    OptiConstraint(\n",
    "        name = \"const1\",\n",
    "        type_const = \"<=\",\n",
    "        value = 700,\n",
    "        get_variable = \"lambda output: abs(output.mag.Tem_rip_pp)\",\n",
    "    )\n",
    "]"
   ]
  },
  {
   "cell_type": "markdown",
   "metadata": {},
   "source": [
    "### Evaluation function\n",
    "\n",
    "\n",
    "We can create our own evaluation function if needed by defining a function which only take an output in argument. \n"
   ]
  },
  {
   "cell_type": "code",
   "execution_count": 7,
   "metadata": {},
   "outputs": [],
   "source": [
    "from pyleecan.Classes.OptiProblem import OptiProblem\n",
    "\n",
    "### Defining the problem\n",
    "my_prob = OptiProblem(\n",
    "    simu=simu_ref, design_var=my_vars, obj_func=objs, eval_func=evaluate_fct\n",
    ")"
   ]
  },
  {
   "cell_type": "markdown",
   "metadata": {},
   "source": [
    "## Solver\n",
    "\n",
    "Pyleecan separes the problem and solver definition to be able to create different solver that uses the same objects. \n",
    "\n",
    "The class [**OptiBayesAlgSmoot**]() enables to solve our problem using Gaussian processes to create a modelization of the machine. The algorithm takes several parameters:  \n",
    "\n",
    "|Parameter|Description|Type|Default Value|  \n",
    "| :-: | :- | :-: | :-: |  \n",
    "|*problem*|Problem to solve|**OptiProblem**|mandatory|\n",
    "|*nb\\_start*|Number of points to start the Gaussian Process|**int**|30|  \n",
    "|*nb\\_iter*|Number of iteration|**int**|5|   \n",
    "|*nb\\_gen*|Generation number|**int**|10|  \n",
    "|*size\\_pop*| Population size per generation|**int**|10| \n",
    "\n",
    "  \n",
    "The `solve` method performs the optimization and returns an [**OutputMultiOpti**](https://www.pyleecan.org/pyleecan.Classes.OutputMultiOpti.html) object which contains the results."
   ]
  },
  {
   "cell_type": "code",
   "execution_count": 8,
   "metadata": {},
   "outputs": [
    {
     "name": "stdout",
     "output_type": "stream",
     "text": [
      "15:58:34 Starting optimization...\n",
      "\tNumber of iterations: 10\n",
      "\t\n",
      "iteration 1\n",
      "PI max value : 1.0\n",
      "xopt : [2.00701633e-04 6.18115524e-02 7.94555959e-01 3.78517635e-02\n",
      " 1.03653425e-01 4.89857151e-01 4.22412930e-01 4.14815316e-02\n",
      " 6.94958181e-01 4.16222585e-01 1.86576720e-02 4.76662655e-01\n",
      " 5.34459509e-01 7.01383925e-02 1.85794311e-01 1.11961498e-01\n",
      " 1.61244110e-01 1.01960377e-01 9.02375066e-02 3.24564948e-02\n",
      " 9.36381523e-02 3.48217312e-01 6.89375537e-01 1.58649534e-01\n",
      " 4.20985393e-01 4.09177263e-01 9.02469712e-01 4.59098181e-01\n",
      " 1.76708810e-01 6.97045976e-01]\n",
      "iteration 2\n",
      "PI max value : 0.9999999999999137\n",
      "xopt : [0.61816741 0.28881158 0.50281003 0.29007388 0.36588846 0.35382138\n",
      " 0.41284226 0.45375008 0.36804241 0.19160352 0.34556654 0.28761034\n",
      " 0.32661416 0.52449134 0.21700144 0.38645124 0.20139883 0.43603519\n",
      " 0.38243428 0.45826465 0.46519012 0.43088673 0.53903963 0.32884079\n",
      " 0.21034388 0.326746   0.35724385 0.34233888 0.2955586  0.15776635]\n",
      "iteration 3\n",
      "PI max value : 0.9964295402676556\n",
      "xopt : [0.408213   0.30572931 0.19276178 0.15191181 0.44531239 0.32268046\n",
      " 0.29034314 0.02938178 0.30529156 0.08453731 0.41067942 0.36671999\n",
      " 0.28969213 0.14136454 0.3688156  0.45764042 0.36384019 0.38697111\n",
      " 0.32116587 0.41753811 0.21287048 0.28640246 0.53859774 0.36048767\n",
      " 0.4468398  0.24177064 0.26284416 0.33399874 0.39405549 0.30363754]\n",
      "iteration 4\n",
      "PI max value : 0.9972665006130121\n",
      "xopt : [0.83780351 0.35209366 0.3583198  0.19319215 0.33443929 0.28357701\n",
      " 0.21146417 0.39358411 0.36204441 0.56507215 0.47367021 0.42331374\n",
      " 0.1247329  0.61625175 0.29703131 0.4728948  0.24486535 0.2061596\n",
      " 0.37552654 0.64209729 0.52735382 0.30066809 0.32326951 0.49336538\n",
      " 0.2835422  0.2823157  0.35518379 0.41419382 0.42514144 0.31705154]\n",
      "iteration 5\n",
      "PI max value : 0.9464960429700239\n",
      "xopt : [0.2505432  0.25404496 0.28846478 0.17529707 0.39835086 0.2493183\n",
      " 0.41246575 0.01775767 0.35952774 0.10233763 0.19608325 0.26158449\n",
      " 0.33539145 0.20353441 0.31907814 0.03842451 0.2605492  0.42574086\n",
      " 0.36491131 0.24079921 0.17644834 0.12833515 0.05872675 0.28531685\n",
      " 0.35306898 0.23959618 0.33268872 0.13094138 0.30464322 0.43714541]\n",
      "iteration 6\n",
      "PI max value : 0.9996458597553965\n",
      "xopt : [0.80456357 0.32841163 0.40421724 0.19401815 0.33449442 0.2785487\n",
      " 0.23549753 0.40439629 0.39146117 0.59775527 0.51918147 0.42453796\n",
      " 0.14721684 0.63579583 0.30537115 0.24618197 0.24572569 0.22162664\n",
      " 0.37403793 0.24668193 0.5133593  0.30606692 0.30653533 0.49537011\n",
      " 0.28182685 0.27115538 0.34687506 0.42676125 0.40013154 0.27614517]\n",
      "iteration 7\n",
      "PI max value : 1.0\n",
      "xopt : [0.93897789 0.40749201 0.21116558 0.22331935 0.38664156 0.35286262\n",
      " 0.17676668 0.38554323 0.27323266 0.32197636 0.28037772 0.40109679\n",
      " 0.07850906 0.57064009 0.26735069 0.59392929 0.28431362 0.15747357\n",
      " 0.39640621 0.80403685 0.54740651 0.31722134 0.54356833 0.46175583\n",
      " 0.25970707 0.42581451 0.36793561 0.38593482 0.5154439  0.62917896]\n",
      "iteration 8\n",
      "PI max value : 0.9454989934397241\n",
      "xopt : [0.80644599 0.50350793 0.31310617 0.2991638  0.35149514 0.36848801\n",
      " 0.18145263 0.48225544 0.3132019  0.5169772  0.31665329 0.44157544\n",
      " 0.2205393  0.40686498 0.33808444 0.68824391 0.24253067 0.27192717\n",
      " 0.35822951 0.7437451  0.64264636 0.39202646 0.33973648 0.44247432\n",
      " 0.31944864 0.26028605 0.4399521  0.3419902  0.42556314 0.22294382]\n",
      "iteration 9\n",
      "PI max value : 0.6194401443726455\n",
      "xopt : [0.80774633 0.23426289 0.61976017 0.56355765 0.50549293 0.31308141\n",
      " 0.30095113 0.4240198  0.4621458  0.40699407 0.52116687 0.48232237\n",
      " 0.73052864 0.32189267 0.35883313 0.44897966 0.55189735 0.6835571\n",
      " 0.43406234 0.57903273 0.26161282 0.35995699 0.72268176 0.39911011\n",
      " 0.45683789 0.36124347 0.46899324 0.48627596 0.43083163 0.48683829]\n",
      "iteration 10\n",
      "PI max value : 0.8885373370641895\n",
      "xopt : [0.56549103 0.30429288 0.50765578 0.33982734 0.3788599  0.43764726\n",
      " 0.48449088 0.51903476 0.3800904  0.06957234 0.2626827  0.28835673\n",
      " 0.38831616 0.48592787 0.22162717 0.39599216 0.18807733 0.50596592\n",
      " 0.3981572  0.78527411 0.43333746 0.51019131 0.66392672 0.29793735\n",
      " 0.16191695 0.41392951 0.39089061 0.31744785 0.28728942 0.25888881]\n",
      "Model is well refined, NSGA2 is running...\n",
      "Optimization done, get the front with .result.F and the set with .result.X\n",
      "16:06:22 End of optimization, solved in 0:07:48.231955.\n",
      "\n"
     ]
    }
   ],
   "source": [
    "from pyleecan.Classes.OptiBayesAlgSmoot import OptiBayesAlgSmoot\n",
    "# Solve problem with Bayes\n",
    "solver = OptiBayesAlgSmoot(problem=my_prob, nb_start=300, nb_iter=10, nb_gen=100, size_pop=40)\n",
    "res = solver.solve()"
   ]
  },
  {
   "cell_type": "markdown",
   "metadata": {},
   "source": [
    "During the algorithm the object displays some data containing:\n",
    "\n",
    "- number of errors: failure during the objective function execution\n",
    "- number of infeasible: number of individual with constraints violations"
   ]
  },
  {
   "cell_type": "markdown",
   "metadata": {},
   "source": [
    "## Plot results\n",
    "\n",
    "**OutputMultiOpti** has several methods to display some results:  \n",
    "\n",
    "- `plot_generation`: to plot individuals for in 2D  \n",
    "- `plot_pareto`: to plot the pareto front in 2D    "
   ]
  },
  {
   "cell_type": "code",
   "execution_count": 10,
   "metadata": {},
   "outputs": [
    {
     "name": "stderr",
     "output_type": "stream",
     "text": [
      "*c* argument looks like a single numeric RGB or RGBA sequence, which should be avoided as value-mapping will have precedence in case its length matches with *x* & *y*.  Please use the *color* keyword-argument or provide a 2-D array with a single row if you intend to specify the same RGB or RGBA value for all points.\n"
     ]
    },
    {
     "data": {
      "text/plain": [
       "<Figure size 432x288 with 0 Axes>"
      ]
     },
     "metadata": {},
     "output_type": "display_data"
    },
    {
     "data": {
      "image/png": "[encoded data removed]",
      "text/plain": [
       "<Figure size 432x288 with 1 Axes>"
      ]
     },
     "metadata": {
      "needs_background": "light"
     },
     "output_type": "display_data"
    }
   ],
   "source": [
    "%matplotlib inline \n",
    "import matplotlib.pyplot as plt \n",
    "\n",
    "# Create a figure containing 4 subfigures (axes) \n",
    "fig = plt.figure()\n",
    "\n",
    "# Plot pareto front in fitness space \n",
    "res.plot_pareto(\n",
    "    x_symbol = \"obj1\", \n",
    "    y_symbol = \"obj2\", \n",
    "    is_show_fig=True\n",
    ")\n",
    "\n",
    "fig.tight_layout()"
   ]
  },
  {
   "cell_type": "code",
   "execution_count": null,
   "metadata": {},
   "outputs": [],
   "source": []
  }
 ],
 "metadata": {
  "kernelspec": {
   "display_name": "Python 3",
   "language": "python",
   "name": "python3"
  },
  "language_info": {
   "codemirror_mode": {
    "name": "ipython",
    "version": 3
   },
   "file_extension": ".py",
   "mimetype": "text/x-python",
   "name": "python",
   "nbconvert_exporter": "python",
   "pygments_lexer": "ipython3",
   "version": "3.8.6"
  }
 },
 "nbformat": 4,
 "nbformat_minor": 4
}
