{
 "cells": [
  {
   "cell_type": "markdown",
   "metadata": {},
   "source": [
    "# Version information"
   ]
  },
  {
   "cell_type": "code",
   "execution_count": 1,
   "metadata": {},
   "outputs": [
    {
     "name": "stdout",
     "output_type": "stream",
     "text": [
      "Running date:  July 01, 2022\n",
      "Pyleecan version: 1.4.0\n",
      "SciDataTool version: 2.4.9\n"
     ]
    }
   ],
   "source": [
    "%matplotlib notebook\n",
    "from PySide2.QtWidgets import *\n",
    "from datetime import date\n",
    "print(\"Running date: \", date.today().strftime(\"%B %d, %Y\"))\n",
    "import pyleecan\n",
    "print(\"Pyleecan version: \" + pyleecan.__version__)\n",
    "import SciDataTool\n",
    "print(\"SciDataTool version: \" + SciDataTool.__version__)"
   ]
  },
  {
   "cell_type": "markdown",
   "metadata": {},
   "source": [
    "# Computation of the Deformation\n",
    "# of Ferromagnetic Material Taking Into Account\n",
    "# Magnetic Forces and Magnetostriction\n",
    "\n",
    "To compute the deformation of ferromagnetic material, differents force distributions can be taken into account such as total magnetic force, anisotropy and/or rotational excitation induced force, or magnetoelastic / magnetostrictive force.\n",
    "\n",
    "To compute this latter, it is proposed to use a formulation of this force tensor on isotropic material based on the following scientific article: [L. Vandevelde, J. Gyselinck, M. A. C. De Wulf and J. A. A. Melkebeek, \"Finite-element computation of the deformation of ferromagnetic material taking into account magnetic forces and magnetostriction,\" in IEEE Transactions on Magnetics, vol. 40, no. 2, pp. 565-568, March 2004, doi: 10.1109/TMAG.2004.824540.](https://ieeexplore.ieee.org/abstract/document/1284477)\n",
    "\n",
    "This tutorial explains how to use the ForceTensor class in Pyleecan to get the deformation of the material, and presents a validation case. \n",
    "\n",
    "The notebook related to this tutorial is available on [GitHub](https://github.com/Eomys/pyleecan/tree/master/Tutorials/tuto_MagnetostrictiveForces.ipynb)."
   ]
  },
  {
   "cell_type": "markdown",
   "metadata": {},
   "source": [
    "# Computation on Pyleecan"
   ]
  },
  {
   "cell_type": "markdown",
   "metadata": {},
   "source": [
    "## Import Pyleecan modules and machine definition"
   ]
  },
  {
   "cell_type": "code",
   "execution_count": 2,
   "metadata": {},
   "outputs": [],
   "source": [
    "%matplotlib inline\n",
    "\n",
    "from os.path import join\n",
    "import pathlib\n",
    "from numpy import zeros, exp, pi, real, meshgrid, mean\n",
    "from numpy.testing import assert_array_almost_equal\n",
    "from SciDataTool import DataTime, VectorField, Data1D\n",
    "import csv\n",
    "import numpy as np\n",
    "import matplotlib.pyplot as plt\n",
    "\n",
    "\n",
    "from pyleecan.Classes.ForceTensor import ForceTensor\n",
    "from pyleecan.Classes.Simu1 import Simu1\n",
    "from pyleecan.Classes.MagFEMM import MagFEMM\n",
    "from pyleecan.Classes.InputCurrent import InputCurrent\n",
    "from pyleecan.Classes.OPdq import OPdq\n",
    "from pyleecan.Classes.SolutionVector import SolutionVector\n",
    "\n",
    "from pyleecan.Functions.load import load\n",
    "from pyleecan.definitions import DATA_DIR\n"
   ]
  },
  {
   "cell_type": "markdown",
   "metadata": {},
   "source": [
    "## Run the simulation\n",
    "The electromagnetic field is solved in a 2D magnetostatic simulation using FEMM software. The material used is a Benchmark stator on which references deformation values for magnetostrictive forces are available. The \"tensor\" dictionnary line 28. will be useful to declare other types of force density one might want to compute."
   ]
  },
  {
   "cell_type": "code",
   "execution_count": 3,
   "metadata": {},
   "outputs": [
    {
     "name": "stdout",
     "output_type": "stream",
     "text": [
      "[15:26:51] Starting running simulation Benchmark_Tensor (machine=Benchmark)\n",
      "[15:26:51] Starting Magnetic module\n",
      "[15:26:52] Computing Airgap Flux in FEMM\n",
      "[15:26:56] Starting Force module\n",
      "[15:27:02] End of simulation Benchmark_Tensor\n"
     ]
    }
   ],
   "source": [
    "# Load machine\n",
    "Benchmark = load(join(DATA_DIR, \"Machine\", \"Benchmark.json\"))\n",
    "# Prepare simulation\n",
    "simu = Simu1(name=\"Benchmark_Tensor\", machine=Benchmark)\n",
    "\n",
    "simu.input = InputCurrent(Ir=None, Na_tot=2 ** 6, Nt_tot=1)\n",
    "simu.input.OP = OPdq(Id_ref=0, Iq_ref=0, N0=1200)\n",
    "\n",
    "simu.elec = None\n",
    "\n",
    "simu.mag = MagFEMM(\n",
    "    type_BH_stator=1,  # 0 for saturated\n",
    "    type_BH_rotor=1,\n",
    "    is_periodicity_a=False,\n",
    "    is_periodicity_t=False,\n",
    "    is_get_meshsolution=True,\n",
    "    is_sliding_band=False,\n",
    "    # nb_worker=cpu_count(),\n",
    "    Kmesh_fineness=1,\n",
    ")\n",
    "\n",
    "# Our ForceTensor class\n",
    "simu.force = ForceTensor(\n",
    "    is_periodicity_a=False,\n",
    "    is_periodicity_t=False,\n",
    "    tensor={\n",
    "        \"magnetostriction\": True,\n",
    "    },\n",
    ")\n",
    "\n",
    "# Run simulation\n",
    "out = simu.run()\n",
    "\n"
   ]
  },
  {
   "cell_type": "markdown",
   "metadata": {},
   "source": [
    "## Display the deformation\n",
    "It should open on a new window pop-up"
   ]
  },
  {
   "cell_type": "code",
   "execution_count": 4,
   "metadata": {},
   "outputs": [
    {
     "ename": "TypeError",
     "evalue": "setWindowIcon(QIcon): argument 1 has unexpected type 'PySide2.QtGui.QIcon'",
     "output_type": "error",
     "traceback": [
      "\u001b[1;31m---------------------------------------------------------------------------\u001b[0m",
      "\u001b[1;31mTypeError\u001b[0m                                 Traceback (most recent call last)",
      "\u001b[1;32m<ipython-input-4-849ee1b7fdda>\u001b[0m in \u001b[0;36m<module>\u001b[1;34m\u001b[0m\n\u001b[1;32m----> 1\u001b[1;33m out.force.meshsolution.plot_glyph(\n\u001b[0m\u001b[0;32m      2\u001b[0m     \u001b[0mlabel\u001b[0m\u001b[1;33m=\u001b[0m\u001b[1;34m\"F\"\u001b[0m\u001b[1;33m,\u001b[0m\u001b[1;33m\u001b[0m\u001b[1;33m\u001b[0m\u001b[0m\n\u001b[0;32m      3\u001b[0m     \u001b[0mis_point_arrow\u001b[0m\u001b[1;33m=\u001b[0m\u001b[1;32mTrue\u001b[0m\u001b[1;33m,\u001b[0m\u001b[1;33m\u001b[0m\u001b[1;33m\u001b[0m\u001b[0m\n\u001b[0;32m      4\u001b[0m     \u001b[1;31m# save_path=\"add a save path if you want\",\u001b[0m\u001b[1;33m\u001b[0m\u001b[1;33m\u001b[0m\u001b[1;33m\u001b[0m\u001b[0m\n\u001b[0;32m      5\u001b[0m )\n",
      "\u001b[1;32md:\\github\\pyleecan-public\\pyleecan\\Methods\\Mesh\\MeshSolution\\plot_glyph.py\u001b[0m in \u001b[0;36mplot_glyph\u001b[1;34m(self, label, index, indices, clim, factor, field_name, save_path, is_point_arrow, group_names, is_show_fig, p, enforced_mesh, win_title, title, is_animated, phase, is_return_plot_args, *args)\u001b[0m\n\u001b[0;32m     98\u001b[0m                 \u001b[0mtitle\u001b[0m \u001b[1;33m=\u001b[0m \u001b[0mwin_title\u001b[0m\u001b[1;33m\u001b[0m\u001b[1;33m\u001b[0m\u001b[0m\n\u001b[0;32m     99\u001b[0m \u001b[1;33m\u001b[0m\u001b[0m\n\u001b[1;32m--> 100\u001b[1;33m             \u001b[0mp\u001b[0m\u001b[1;33m,\u001b[0m \u001b[0m_\u001b[0m \u001b[1;33m=\u001b[0m \u001b[0mconfigure_plot\u001b[0m\u001b[1;33m(\u001b[0m\u001b[0mp\u001b[0m\u001b[1;33m=\u001b[0m\u001b[0mp\u001b[0m\u001b[1;33m,\u001b[0m \u001b[0mwin_title\u001b[0m\u001b[1;33m=\u001b[0m\u001b[0mwin_title\u001b[0m\u001b[1;33m,\u001b[0m \u001b[0msave_path\u001b[0m\u001b[1;33m=\u001b[0m\u001b[0msave_path\u001b[0m\u001b[1;33m)\u001b[0m\u001b[1;33m\u001b[0m\u001b[1;33m\u001b[0m\u001b[0m\n\u001b[0m\u001b[0;32m    101\u001b[0m \u001b[1;33m\u001b[0m\u001b[0m\n\u001b[0;32m    102\u001b[0m             p.add_text(\n",
      "\u001b[1;32md:\\github\\pyleecan-public\\pyleecan\\Functions\\Plot\\Pyvista\\configure_plot.py\u001b[0m in \u001b[0;36mconfigure_plot\u001b[1;34m(p, win_title, save_path)\u001b[0m\n\u001b[0;32m     34\u001b[0m \u001b[1;33m\u001b[0m\u001b[0m\n\u001b[0;32m     35\u001b[0m         \u001b[1;32mif\u001b[0m \u001b[0mis_pyvistaqt\u001b[0m\u001b[1;33m:\u001b[0m\u001b[1;33m\u001b[0m\u001b[1;33m\u001b[0m\u001b[0m\n\u001b[1;32m---> 36\u001b[1;33m             \u001b[0mp\u001b[0m \u001b[1;33m=\u001b[0m \u001b[0mpv\u001b[0m\u001b[1;33m.\u001b[0m\u001b[0mBackgroundPlotter\u001b[0m\u001b[1;33m(\u001b[0m\u001b[0mtitle\u001b[0m\u001b[1;33m=\u001b[0m\u001b[0mwin_title\u001b[0m\u001b[1;33m)\u001b[0m\u001b[1;33m\u001b[0m\u001b[1;33m\u001b[0m\u001b[0m\n\u001b[0m\u001b[0;32m     37\u001b[0m             \u001b[0mp\u001b[0m\u001b[1;33m.\u001b[0m\u001b[0mset_background\u001b[0m\u001b[1;33m(\u001b[0m\u001b[1;34m\"white\"\u001b[0m\u001b[1;33m)\u001b[0m\u001b[1;33m\u001b[0m\u001b[1;33m\u001b[0m\u001b[0m\n\u001b[0;32m     38\u001b[0m         \u001b[1;32melse\u001b[0m\u001b[1;33m:\u001b[0m\u001b[1;33m\u001b[0m\u001b[1;33m\u001b[0m\u001b[0m\n",
      "\u001b[1;32mc:\\python38\\lib\\site-packages\\pyvistaqt\\plotting.py\u001b[0m in \u001b[0;36m__init__\u001b[1;34m(self, show, app, window_size, off_screen, allow_quit_keypress, toolbar, menu_bar, editor, update_app_icon, **kwargs)\u001b[0m\n\u001b[0;32m    559\u001b[0m             \u001b[0mself\u001b[0m\u001b[1;33m.\u001b[0m\u001b[0madd_callback\u001b[0m\u001b[1;33m(\u001b[0m\u001b[0mself\u001b[0m\u001b[1;33m.\u001b[0m\u001b[0mupdate_app_icon\u001b[0m\u001b[1;33m)\u001b[0m\u001b[1;33m\u001b[0m\u001b[1;33m\u001b[0m\u001b[0m\n\u001b[0;32m    560\u001b[0m         \u001b[1;32melif\u001b[0m \u001b[0mupdate_app_icon\u001b[0m \u001b[1;32mis\u001b[0m \u001b[1;32mNone\u001b[0m\u001b[1;33m:\u001b[0m\u001b[1;33m\u001b[0m\u001b[1;33m\u001b[0m\u001b[0m\n\u001b[1;32m--> 561\u001b[1;33m             self.set_icon(\n\u001b[0m\u001b[0;32m    562\u001b[0m                 os.path.join(\n\u001b[0;32m    563\u001b[0m                     \u001b[0mos\u001b[0m\u001b[1;33m.\u001b[0m\u001b[0mpath\u001b[0m\u001b[1;33m.\u001b[0m\u001b[0mdirname\u001b[0m\u001b[1;33m(\u001b[0m\u001b[0m__file__\u001b[0m\u001b[1;33m)\u001b[0m\u001b[1;33m,\u001b[0m \u001b[1;34m\"data\"\u001b[0m\u001b[1;33m,\u001b[0m \u001b[1;34m\"pyvista_logo_square.png\"\u001b[0m\u001b[1;33m\u001b[0m\u001b[1;33m\u001b[0m\u001b[0m\n",
      "\u001b[1;32mc:\\python38\\lib\\site-packages\\pyvistaqt\\plotting.py\u001b[0m in \u001b[0;36mset_icon\u001b[1;34m(self, img)\u001b[0m\n\u001b[0;32m    662\u001b[0m         \u001b[1;31m# allow resource paths and the like so os.path.isfile is no good)\u001b[0m\u001b[1;33m\u001b[0m\u001b[1;33m\u001b[0m\u001b[1;33m\u001b[0m\u001b[0m\n\u001b[0;32m    663\u001b[0m         \u001b[1;31m# and icon.isNull() returns False even if the path is bogus.\u001b[0m\u001b[1;33m\u001b[0m\u001b[1;33m\u001b[0m\u001b[1;33m\u001b[0m\u001b[0m\n\u001b[1;32m--> 664\u001b[1;33m         \u001b[0mself\u001b[0m\u001b[1;33m.\u001b[0m\u001b[0mapp\u001b[0m\u001b[1;33m.\u001b[0m\u001b[0msetWindowIcon\u001b[0m\u001b[1;33m(\u001b[0m\u001b[0mQtGui\u001b[0m\u001b[1;33m.\u001b[0m\u001b[0mQIcon\u001b[0m\u001b[1;33m(\u001b[0m\u001b[0mimg\u001b[0m\u001b[1;33m)\u001b[0m\u001b[1;33m)\u001b[0m\u001b[1;33m\u001b[0m\u001b[1;33m\u001b[0m\u001b[0m\n\u001b[0m\u001b[0;32m    665\u001b[0m \u001b[1;33m\u001b[0m\u001b[0m\n\u001b[0;32m    666\u001b[0m     \u001b[1;32mdef\u001b[0m \u001b[0m_qt_screenshot\u001b[0m\u001b[1;33m(\u001b[0m\u001b[0mself\u001b[0m\u001b[1;33m,\u001b[0m \u001b[0mshow\u001b[0m\u001b[1;33m:\u001b[0m \u001b[0mbool\u001b[0m \u001b[1;33m=\u001b[0m \u001b[1;32mTrue\u001b[0m\u001b[1;33m)\u001b[0m \u001b[1;33m->\u001b[0m \u001b[0mFileDialog\u001b[0m\u001b[1;33m:\u001b[0m\u001b[1;33m\u001b[0m\u001b[1;33m\u001b[0m\u001b[0m\n",
      "\u001b[1;31mTypeError\u001b[0m: setWindowIcon(QIcon): argument 1 has unexpected type 'PySide2.QtGui.QIcon'"
     ]
    }
   ],
   "source": [
    "out.force.meshsolution.plot_glyph(\n",
    "    label=\"F\",\n",
    "    is_point_arrow=True,\n",
    "    # save_path=\"add a save path if you want\",\n",
    ")"
   ]
  },
  {
   "cell_type": "markdown",
   "metadata": {},
   "source": [
    "# Validation case and code details"
   ]
  },
  {
   "cell_type": "markdown",
   "metadata": {},
   "source": [
    "## Import the reference results\n",
    "These are available thanks to Pr. Lieven Vandevelde from the Gand University, Belgium."
   ]
  },
  {
   "cell_type": "code",
   "execution_count": null,
   "metadata": {},
   "outputs": [],
   "source": [
    "#CSV import \n",
    "current_workdir = str(pathlib.Path().absolute())\n",
    "ref_path = current_workdir.replace(\"Tutorials\",\"Tests\\Data\\Benchmark_model_stator_ms.csv\")\n",
    "with open(ref_path, \"r\") as file:\n",
    "    reader = csv.reader(file, skipinitialspace=True)\n",
    "    l1 = next(reader)\n",
    "    l2 = next(reader)\n",
    "    l3 = next(reader)\n",
    "    nb_node = int(l2[1])\n",
    "    dim = int(l2[2])\n",
    "    Nt_tot = int(l2[3])\n",
    "    f2 = np.zeros((nb_node, dim))\n",
    "    node_number_list = []\n",
    "    indices_nodes = []\n",
    "    for row in reader:\n",
    "        f2[int(row[0])][0] = 1000*float(row[3])\n",
    "        f2[int(row[0])][1] = 1000*float(row[4])\n",
    "        node_number_list.append(int(row[10]))\n",
    "        indices_nodes.append(int(row[11]))\n",
    "\n",
    "# Little trick to reshape f2 so that it can be compared to f, since Indices_Points2 isn't taken into account yet\n",
    "_,_,connectivity = np.intersect1d(indices_nodes,node_number_list,return_indices=True)\n",
    "f2 = f2[connectivity,:]\n",
    "\n",
    "f2 = f2.reshape((Nt_tot,nb_node,dim))\n",
    "\n",
    "components2 = {}\n",
    "Indices_Point2 = Data1D(name=\"indice\", values=np.array(node_number_list), is_components=True)\n",
    "\n",
    "Time = out.force.meshsolution.solution[0].field.get_axes()[0]\n",
    "\n",
    "fx2_data = DataTime(\n",
    "    name=\"Nodal force 2 (x)\",\n",
    "    unit=\"N\",\n",
    "    symbol=\"Fx2\",\n",
    "    axes=[Time, Indices_Point2],\n",
    "    values=f2[..., 0],\n",
    ")\n",
    "components2[\"comp_x\"] = fx2_data\n",
    "\n",
    "fy2_data = DataTime(\n",
    "    name=\"Nodal force 2 (y)\",\n",
    "    unit=\"N\",\n",
    "    symbol=\"Fy2\",\n",
    "    axes=[Time, Indices_Point2],\n",
    "    values=f2[..., 1],\n",
    ")\n",
    "components2[\"comp_y\"] = fy2_data\n",
    "\n",
    "vec_force2 = VectorField(name=\"Nodal forces 2\", symbol=\"F2\", components=components2)\n",
    "solforce2 = SolutionVector(field=vec_force2, type_cell=\"node\", label=\"F2\")\n",
    "out.force.meshsolution.solution.append(solforce2)\n",
    "\n"
   ]
  },
  {
   "cell_type": "markdown",
   "metadata": {},
   "source": [
    "## Analyse & compare"
   ]
  },
  {
   "cell_type": "markdown",
   "metadata": {},
   "source": [
    "One can firstly plot the reference deformations"
   ]
  },
  {
   "cell_type": "code",
   "execution_count": null,
   "metadata": {},
   "outputs": [],
   "source": [
    "out.force.meshsolution.plot_glyph(\n",
    "    label=\"F2\",\n",
    "    is_point_arrow=True,\n",
    "    # save_path=\"add a save path if you want\",\n",
    ")"
   ]
  },
  {
   "cell_type": "markdown",
   "metadata": {},
   "source": [
    "To pursue further comparisons we will filter the relevant values given the following criteria : \n",
    "$$f_{node} \\geq \\frac{f_{max}}{1000} $$ One can see that the **mean relative error** along both axis is approximately **1.5%** which validates the algorithm."
   ]
  },
  {
   "cell_type": "markdown",
   "metadata": {},
   "source": [
    "Relative error is defined as follow :\n",
    "\\begin{equation}\n",
    "error_x = \\frac{|f_x - f_{ref,x}|}{|f_{ref,x}|}\n",
    "\\end{equation}\n"
   ]
  },
  {
   "cell_type": "code",
   "execution_count": null,
   "metadata": {
    "tags": []
   },
   "outputs": [],
   "source": [
    "%matplotlib inline\n",
    "computed_forces_x = out.force.meshsolution.solution[0].field.components[\"comp_x\"].values\n",
    "reference_forces_x = f2[..., 0] \n",
    "\n",
    "computed_forces_y = out.force.meshsolution.solution[0].field.components[\"comp_y\"].values\n",
    "reference_forces_y = f2[..., 1] \n",
    "\n",
    "\n",
    "# Filter on 1e-3 * max\n",
    "relevant_mask_x = reference_forces_x > 1e-3*np.max(reference_forces_x)\n",
    "relevant_mask_y = reference_forces_y > 1e-3*np.max(reference_forces_y)\n",
    "\n",
    "relevant_computed_forces_x = computed_forces_x[relevant_mask_x]\n",
    "relevant_reference_forces_x = reference_forces_x[relevant_mask_x] \n",
    "relevant_computed_forces_y = computed_forces_y[relevant_mask_y]\n",
    "relevant_reference_forces_y = reference_forces_y[relevant_mask_y] \n",
    "\n",
    "\n",
    "plt.figure()\n",
    "mean_error_x = np.mean(np.abs(relevant_computed_forces_x-relevant_reference_forces_x)/np.abs(relevant_reference_forces_x))\n",
    "plt.plot(np.arange(len(relevant_computed_forces_x)),np.abs(relevant_computed_forces_x-relevant_reference_forces_x)/np.abs(relevant_reference_forces_x),'o',label='Mean error={}'.format(np.round(mean_error_x,3)))\n",
    "plt.xlabel('Relevant nodes')\n",
    "plt.ylabel('Relative error')\n",
    "plt.legend(loc='best')\n",
    "plt.title('Relative errors along axis X')\n",
    "plt.show()\n",
    "\n",
    "plt.figure()\n",
    "mean_error_y = np.mean(np.abs(relevant_computed_forces_y-relevant_reference_forces_y)/np.abs(relevant_reference_forces_y))\n",
    "plt.plot(np.arange(len(relevant_computed_forces_y)),np.abs(relevant_computed_forces_y-relevant_reference_forces_y)/np.abs(relevant_reference_forces_y),'o',label='Mean error={}'.format(np.round(mean_error_y,3)))\n",
    "plt.xlabel('Relevant nodes')\n",
    "plt.ylabel('Relative error')\n",
    "plt.legend(loc='best')\n",
    "plt.title('Relative errors along axis Y')\n",
    "plt.show()\n",
    "\n"
   ]
  },
  {
   "cell_type": "markdown",
   "metadata": {},
   "source": [
    "It could be interesting to display the forces on **relevant nodes** that have a significatively huge error, i.e. : $$ error > 0.2 $$\n",
    "It is done on the next plot based on errors along axis X, with $$ f - f_{ref} $$ being displayed on these nodes.\n",
    "One can see that it happends mostly on nodes at the interface between stator and air."
   ]
  },
  {
   "cell_type": "code",
   "execution_count": null,
   "metadata": {},
   "outputs": [],
   "source": [
    "big_diff_mask_x = np.logical_and(np.abs(computed_forces_x-reference_forces_x)/np.abs(reference_forces_x) > 0.2, np.abs(computed_forces_x-reference_forces_x)/np.abs(reference_forces_x) < 1.5)\n",
    "big_diff_mask_y = np.logical_and(np.abs(computed_forces_y-reference_forces_y)/np.abs(reference_forces_y) > 0.2, np.abs(computed_forces_y-reference_forces_y)/np.abs(reference_forces_y) < 1.5)\n",
    "\n",
    "big_diff_x = np.where(big_diff_mask_x,computed_forces_x-reference_forces_x,np.zeros(computed_forces_x.shape))\n",
    "big_diff_y_x = np.where(big_diff_mask_x,computed_forces_y-reference_forces_y,np.zeros(computed_forces_y.shape))\n",
    "\n",
    "components_diff_x = {}\n",
    "fx_diff_data = DataTime(\n",
    "    name=\"Nodal force diff x (x)\",\n",
    "    unit=\"N\",\n",
    "    symbol=\"Fxdx\",\n",
    "    axes=[Time, Indices_Point2],\n",
    "    values=big_diff_x,\n",
    ")\n",
    "components_diff_x[\"comp_x\"] = fx_diff_data\n",
    "\n",
    "fy_diff_data = DataTime(\n",
    "    name=\"Nodal force diff x (y)\",\n",
    "    unit=\"N\",\n",
    "    symbol=\"Fydx\",\n",
    "    axes=[Time, Indices_Point2],\n",
    "    values=big_diff_y_x,\n",
    ")\n",
    "components_diff_x[\"comp_y\"] = fx_diff_data\n",
    "\n",
    "vec_force_dx = VectorField(name=\"Nodal forces dx\", symbol=\"Fdx\", components=components_diff_x)\n",
    "solforce_dx = SolutionVector(field=vec_force_dx, type_cell=\"node\", label=\"Fdx\")\n",
    "out.force.meshsolution.solution.append(solforce_dx)\n",
    "\n",
    "out.force.meshsolution.plot_glyph(\n",
    "    label=\"Fdx\",\n",
    "    is_point_arrow=True,\n",
    "    # is_show_fig=True,\n",
    "    # save_path=join(save_path,\"magneto_plot_glyph2.png\"),\n",
    ")"
   ]
  },
  {
   "cell_type": "markdown",
   "metadata": {},
   "source": [
    "## Code details"
   ]
  },
  {
   "cell_type": "markdown",
   "metadata": {},
   "source": [
    "The gist of the physics can be found in the method element_loop, which is a loop on the element of the mesh that is called in comp_force_nodal. There, the magnetostrictive tensor is computed :"
   ]
  },
  {
   "cell_type": "code",
   "execution_count": null,
   "metadata": {},
   "outputs": [],
   "source": [
    "# if(self.tensor['magnetostriction']):\n",
    "#     tme = self.comp_magnetostrictive_tensor(mue, Me, Nt_tot, polynomial_coeffs)\n",
    "#     total_tensor += tme"
   ]
  },
  {
   "cell_type": "markdown",
   "metadata": {},
   "source": [
    "comp_magnetostrictive_tensor uses the following defintion from the already introduced article :\n",
    "$$ \\alpha^c = -\\alpha_1 * \\mu_0 * MM - \\alpha_2*\\mu_0*M^2*I $$\n",
    "where $\\alpha_i$ depend on the material and have default values according to experimental results in the publication.\n",
    "\n",
    "This tensor is bounded to an element since we currently work with first-order element, meaning physical values such as B,H,M are element-wise constants. \n",
    "\n",
    "It is then multiplied by the outward normal of the current vertice and the length of the latter, which gives a force that should be added to the opposite node of the current vertice (in triangular element), but since the sum of nodal forces on a given element is null, one can also add $-\\frac{1}{2}$ of this force on each vertice's nodes."
   ]
  },
  {
   "cell_type": "code",
   "execution_count": null,
   "metadata": {},
   "outputs": [],
   "source": [
    "# edge_force = np.tensordot(\n",
    "#     total_tensor, normal_to_edge, [[1], [0]]\n",
    "# )  # [[1],[0]] means sum product over rows for normal (which is vertical) and over rows for tme\n",
    "\n",
    "# # Total edge force contribution, to be added to the 2 nodes that made the edge\n",
    "# fe = -Ve0 * edge_force\n",
    "# f[node_indice, :, :] = f[node_indice, :, :] + fe / 2\n",
    "# f[next_node_indice, :, :] = f[next_node_indice, :, :] + fe / 2"
   ]
  },
  {
   "cell_type": "code",
   "execution_count": null,
   "metadata": {},
   "outputs": [],
   "source": []
  }
 ],
 "metadata": {
  "celltoolbar": "Format de la Cellule Texte Brut",
  "interpreter": {
   "hash": "2e29ca5c9d9a961313ddfecaf1962cefd5b8e5ff232bb1662e05826e5859ba4f"
  },
  "kernelspec": {
   "display_name": "Python 3",
   "language": "python",
   "name": "python3"
  },
  "language_info": {
   "codemirror_mode": {
    "name": "ipython",
    "version": 3
   },
   "file_extension": ".py",
   "mimetype": "text/x-python",
   "name": "python",
   "nbconvert_exporter": "python",
   "pygments_lexer": "ipython3",
   "version": "3.8.6"
  }
 },
 "nbformat": 4,
 "nbformat_minor": 4
}
